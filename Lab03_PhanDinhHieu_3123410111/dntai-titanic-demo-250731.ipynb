{
 "cells": [
  {
   "cell_type": "code",
   "execution_count": 1,
   "id": "6c6b1387",
   "metadata": {
    "_cell_guid": "b1076dfc-b9ad-4769-8c92-a6c4dae69d19",
    "_uuid": "8f2839f25d086af736a60e9eeb907d3b93b6e0e5",
    "execution": {
     "iopub.execute_input": "2025-07-30T23:20:02.519537Z",
     "iopub.status.busy": "2025-07-30T23:20:02.518709Z",
     "iopub.status.idle": "2025-07-30T23:20:06.561235Z",
     "shell.execute_reply": "2025-07-30T23:20:06.560090Z"
    },
    "papermill": {
     "duration": 4.0509,
     "end_time": "2025-07-30T23:20:06.562882",
     "exception": false,
     "start_time": "2025-07-30T23:20:02.511982",
     "status": "completed"
    },
    "tags": []
   },
   "outputs": [
    {
     "name": "stdout",
     "output_type": "stream",
     "text": [
      "/kaggle/input/titanic/train.csv\n",
      "/kaggle/input/titanic/test.csv\n",
      "/kaggle/input/titanic/gender_submission.csv\n",
      "/kaggle/input/vhu-olpai-data/olpai_data/README.md\n"
     ]
    }
   ],
   "source": [
    "import numpy as np \n",
    "import pandas as pd \n",
    "import matplotlib.pyplot as plt\n",
    "import seaborn as sns\n",
    "\n",
    "import os\n",
    "for dirname, _, filenames in os.walk('/kaggle/input'):\n",
    "    for filename in filenames:\n",
    "        print(os.path.join(dirname, filename))"
   ]
  },
  {
   "cell_type": "code",
   "execution_count": 2,
   "id": "6702eaf7",
   "metadata": {
    "execution": {
     "iopub.execute_input": "2025-07-30T23:20:06.573442Z",
     "iopub.status.busy": "2025-07-30T23:20:06.572970Z",
     "iopub.status.idle": "2025-07-30T23:20:06.623783Z",
     "shell.execute_reply": "2025-07-30T23:20:06.622874Z"
    },
    "papermill": {
     "duration": 0.057935,
     "end_time": "2025-07-30T23:20:06.625571",
     "exception": false,
     "start_time": "2025-07-30T23:20:06.567636",
     "status": "completed"
    },
    "tags": []
   },
   "outputs": [
    {
     "data": {
      "text/html": [
       "<div>\n",
       "<style scoped>\n",
       "    .dataframe tbody tr th:only-of-type {\n",
       "        vertical-align: middle;\n",
       "    }\n",
       "\n",
       "    .dataframe tbody tr th {\n",
       "        vertical-align: top;\n",
       "    }\n",
       "\n",
       "    .dataframe thead th {\n",
       "        text-align: right;\n",
       "    }\n",
       "</style>\n",
       "<table border=\"1\" class=\"dataframe\">\n",
       "  <thead>\n",
       "    <tr style=\"text-align: right;\">\n",
       "      <th></th>\n",
       "      <th>PassengerId</th>\n",
       "      <th>Survived</th>\n",
       "      <th>Pclass</th>\n",
       "      <th>Name</th>\n",
       "      <th>Sex</th>\n",
       "      <th>Age</th>\n",
       "      <th>SibSp</th>\n",
       "      <th>Parch</th>\n",
       "      <th>Ticket</th>\n",
       "      <th>Fare</th>\n",
       "      <th>Cabin</th>\n",
       "      <th>Embarked</th>\n",
       "    </tr>\n",
       "  </thead>\n",
       "  <tbody>\n",
       "    <tr>\n",
       "      <th>0</th>\n",
       "      <td>1</td>\n",
       "      <td>0</td>\n",
       "      <td>3</td>\n",
       "      <td>Braund, Mr. Owen Harris</td>\n",
       "      <td>male</td>\n",
       "      <td>22.0</td>\n",
       "      <td>1</td>\n",
       "      <td>0</td>\n",
       "      <td>A/5 21171</td>\n",
       "      <td>7.2500</td>\n",
       "      <td>NaN</td>\n",
       "      <td>S</td>\n",
       "    </tr>\n",
       "    <tr>\n",
       "      <th>1</th>\n",
       "      <td>2</td>\n",
       "      <td>1</td>\n",
       "      <td>1</td>\n",
       "      <td>Cumings, Mrs. John Bradley (Florence Briggs Th...</td>\n",
       "      <td>female</td>\n",
       "      <td>38.0</td>\n",
       "      <td>1</td>\n",
       "      <td>0</td>\n",
       "      <td>PC 17599</td>\n",
       "      <td>71.2833</td>\n",
       "      <td>C85</td>\n",
       "      <td>C</td>\n",
       "    </tr>\n",
       "    <tr>\n",
       "      <th>2</th>\n",
       "      <td>3</td>\n",
       "      <td>1</td>\n",
       "      <td>3</td>\n",
       "      <td>Heikkinen, Miss. Laina</td>\n",
       "      <td>female</td>\n",
       "      <td>26.0</td>\n",
       "      <td>0</td>\n",
       "      <td>0</td>\n",
       "      <td>STON/O2. 3101282</td>\n",
       "      <td>7.9250</td>\n",
       "      <td>NaN</td>\n",
       "      <td>S</td>\n",
       "    </tr>\n",
       "    <tr>\n",
       "      <th>3</th>\n",
       "      <td>4</td>\n",
       "      <td>1</td>\n",
       "      <td>1</td>\n",
       "      <td>Futrelle, Mrs. Jacques Heath (Lily May Peel)</td>\n",
       "      <td>female</td>\n",
       "      <td>35.0</td>\n",
       "      <td>1</td>\n",
       "      <td>0</td>\n",
       "      <td>113803</td>\n",
       "      <td>53.1000</td>\n",
       "      <td>C123</td>\n",
       "      <td>S</td>\n",
       "    </tr>\n",
       "    <tr>\n",
       "      <th>4</th>\n",
       "      <td>5</td>\n",
       "      <td>0</td>\n",
       "      <td>3</td>\n",
       "      <td>Allen, Mr. William Henry</td>\n",
       "      <td>male</td>\n",
       "      <td>35.0</td>\n",
       "      <td>0</td>\n",
       "      <td>0</td>\n",
       "      <td>373450</td>\n",
       "      <td>8.0500</td>\n",
       "      <td>NaN</td>\n",
       "      <td>S</td>\n",
       "    </tr>\n",
       "  </tbody>\n",
       "</table>\n",
       "</div>"
      ],
      "text/plain": [
       "   PassengerId  Survived  Pclass  \\\n",
       "0            1         0       3   \n",
       "1            2         1       1   \n",
       "2            3         1       3   \n",
       "3            4         1       1   \n",
       "4            5         0       3   \n",
       "\n",
       "                                                Name     Sex   Age  SibSp  \\\n",
       "0                            Braund, Mr. Owen Harris    male  22.0      1   \n",
       "1  Cumings, Mrs. John Bradley (Florence Briggs Th...  female  38.0      1   \n",
       "2                             Heikkinen, Miss. Laina  female  26.0      0   \n",
       "3       Futrelle, Mrs. Jacques Heath (Lily May Peel)  female  35.0      1   \n",
       "4                           Allen, Mr. William Henry    male  35.0      0   \n",
       "\n",
       "   Parch            Ticket     Fare Cabin Embarked  \n",
       "0      0         A/5 21171   7.2500   NaN        S  \n",
       "1      0          PC 17599  71.2833   C85        C  \n",
       "2      0  STON/O2. 3101282   7.9250   NaN        S  \n",
       "3      0            113803  53.1000  C123        S  \n",
       "4      0            373450   8.0500   NaN        S  "
      ]
     },
     "execution_count": 2,
     "metadata": {},
     "output_type": "execute_result"
    }
   ],
   "source": [
    "train_data = pd.read_csv(\"/kaggle/input/titanic/train.csv\")\n",
    "train_data.head()"
   ]
  },
  {
   "cell_type": "markdown",
   "id": "9b9a5185",
   "metadata": {
    "papermill": {
     "duration": 0.004341,
     "end_time": "2025-07-30T23:20:06.634781",
     "exception": false,
     "start_time": "2025-07-30T23:20:06.630440",
     "status": "completed"
    },
    "tags": []
   },
   "source": [
    "## Load Test"
   ]
  },
  {
   "cell_type": "code",
   "execution_count": 3,
   "id": "8f26f7f2",
   "metadata": {
    "execution": {
     "iopub.execute_input": "2025-07-30T23:20:06.645199Z",
     "iopub.status.busy": "2025-07-30T23:20:06.644828Z",
     "iopub.status.idle": "2025-07-30T23:20:06.664706Z",
     "shell.execute_reply": "2025-07-30T23:20:06.663811Z"
    },
    "papermill": {
     "duration": 0.027002,
     "end_time": "2025-07-30T23:20:06.666387",
     "exception": false,
     "start_time": "2025-07-30T23:20:06.639385",
     "status": "completed"
    },
    "tags": []
   },
   "outputs": [
    {
     "data": {
      "text/html": [
       "<div>\n",
       "<style scoped>\n",
       "    .dataframe tbody tr th:only-of-type {\n",
       "        vertical-align: middle;\n",
       "    }\n",
       "\n",
       "    .dataframe tbody tr th {\n",
       "        vertical-align: top;\n",
       "    }\n",
       "\n",
       "    .dataframe thead th {\n",
       "        text-align: right;\n",
       "    }\n",
       "</style>\n",
       "<table border=\"1\" class=\"dataframe\">\n",
       "  <thead>\n",
       "    <tr style=\"text-align: right;\">\n",
       "      <th></th>\n",
       "      <th>PassengerId</th>\n",
       "      <th>Pclass</th>\n",
       "      <th>Name</th>\n",
       "      <th>Sex</th>\n",
       "      <th>Age</th>\n",
       "      <th>SibSp</th>\n",
       "      <th>Parch</th>\n",
       "      <th>Ticket</th>\n",
       "      <th>Fare</th>\n",
       "      <th>Cabin</th>\n",
       "      <th>Embarked</th>\n",
       "    </tr>\n",
       "  </thead>\n",
       "  <tbody>\n",
       "    <tr>\n",
       "      <th>0</th>\n",
       "      <td>892</td>\n",
       "      <td>3</td>\n",
       "      <td>Kelly, Mr. James</td>\n",
       "      <td>male</td>\n",
       "      <td>34.5</td>\n",
       "      <td>0</td>\n",
       "      <td>0</td>\n",
       "      <td>330911</td>\n",
       "      <td>7.8292</td>\n",
       "      <td>NaN</td>\n",
       "      <td>Q</td>\n",
       "    </tr>\n",
       "    <tr>\n",
       "      <th>1</th>\n",
       "      <td>893</td>\n",
       "      <td>3</td>\n",
       "      <td>Wilkes, Mrs. James (Ellen Needs)</td>\n",
       "      <td>female</td>\n",
       "      <td>47.0</td>\n",
       "      <td>1</td>\n",
       "      <td>0</td>\n",
       "      <td>363272</td>\n",
       "      <td>7.0000</td>\n",
       "      <td>NaN</td>\n",
       "      <td>S</td>\n",
       "    </tr>\n",
       "    <tr>\n",
       "      <th>2</th>\n",
       "      <td>894</td>\n",
       "      <td>2</td>\n",
       "      <td>Myles, Mr. Thomas Francis</td>\n",
       "      <td>male</td>\n",
       "      <td>62.0</td>\n",
       "      <td>0</td>\n",
       "      <td>0</td>\n",
       "      <td>240276</td>\n",
       "      <td>9.6875</td>\n",
       "      <td>NaN</td>\n",
       "      <td>Q</td>\n",
       "    </tr>\n",
       "    <tr>\n",
       "      <th>3</th>\n",
       "      <td>895</td>\n",
       "      <td>3</td>\n",
       "      <td>Wirz, Mr. Albert</td>\n",
       "      <td>male</td>\n",
       "      <td>27.0</td>\n",
       "      <td>0</td>\n",
       "      <td>0</td>\n",
       "      <td>315154</td>\n",
       "      <td>8.6625</td>\n",
       "      <td>NaN</td>\n",
       "      <td>S</td>\n",
       "    </tr>\n",
       "    <tr>\n",
       "      <th>4</th>\n",
       "      <td>896</td>\n",
       "      <td>3</td>\n",
       "      <td>Hirvonen, Mrs. Alexander (Helga E Lindqvist)</td>\n",
       "      <td>female</td>\n",
       "      <td>22.0</td>\n",
       "      <td>1</td>\n",
       "      <td>1</td>\n",
       "      <td>3101298</td>\n",
       "      <td>12.2875</td>\n",
       "      <td>NaN</td>\n",
       "      <td>S</td>\n",
       "    </tr>\n",
       "  </tbody>\n",
       "</table>\n",
       "</div>"
      ],
      "text/plain": [
       "   PassengerId  Pclass                                          Name     Sex  \\\n",
       "0          892       3                              Kelly, Mr. James    male   \n",
       "1          893       3              Wilkes, Mrs. James (Ellen Needs)  female   \n",
       "2          894       2                     Myles, Mr. Thomas Francis    male   \n",
       "3          895       3                              Wirz, Mr. Albert    male   \n",
       "4          896       3  Hirvonen, Mrs. Alexander (Helga E Lindqvist)  female   \n",
       "\n",
       "    Age  SibSp  Parch   Ticket     Fare Cabin Embarked  \n",
       "0  34.5      0      0   330911   7.8292   NaN        Q  \n",
       "1  47.0      1      0   363272   7.0000   NaN        S  \n",
       "2  62.0      0      0   240276   9.6875   NaN        Q  \n",
       "3  27.0      0      0   315154   8.6625   NaN        S  \n",
       "4  22.0      1      1  3101298  12.2875   NaN        S  "
      ]
     },
     "execution_count": 3,
     "metadata": {},
     "output_type": "execute_result"
    }
   ],
   "source": [
    "test_data = pd.read_csv(\"/kaggle/input/titanic/test.csv\")\n",
    "test_data.head()"
   ]
  },
  {
   "cell_type": "code",
   "execution_count": 4,
   "id": "05be76a9",
   "metadata": {
    "execution": {
     "iopub.execute_input": "2025-07-30T23:20:06.677966Z",
     "iopub.status.busy": "2025-07-30T23:20:06.677663Z",
     "iopub.status.idle": "2025-07-30T23:20:06.708060Z",
     "shell.execute_reply": "2025-07-30T23:20:06.706705Z"
    },
    "papermill": {
     "duration": 0.038824,
     "end_time": "2025-07-30T23:20:06.710248",
     "exception": false,
     "start_time": "2025-07-30T23:20:06.671424",
     "status": "completed"
    },
    "tags": []
   },
   "outputs": [
    {
     "name": "stdout",
     "output_type": "stream",
     "text": [
      "<class 'pandas.core.frame.DataFrame'>\n",
      "RangeIndex: 891 entries, 0 to 890\n",
      "Data columns (total 12 columns):\n",
      " #   Column       Non-Null Count  Dtype  \n",
      "---  ------       --------------  -----  \n",
      " 0   PassengerId  891 non-null    int64  \n",
      " 1   Survived     891 non-null    int64  \n",
      " 2   Pclass       891 non-null    int64  \n",
      " 3   Name         891 non-null    object \n",
      " 4   Sex          891 non-null    object \n",
      " 5   Age          714 non-null    float64\n",
      " 6   SibSp        891 non-null    int64  \n",
      " 7   Parch        891 non-null    int64  \n",
      " 8   Ticket       891 non-null    object \n",
      " 9   Fare         891 non-null    float64\n",
      " 10  Cabin        204 non-null    object \n",
      " 11  Embarked     889 non-null    object \n",
      "dtypes: float64(2), int64(5), object(5)\n",
      "memory usage: 83.7+ KB\n"
     ]
    }
   ],
   "source": [
    "train_data.info()"
   ]
  },
  {
   "cell_type": "code",
   "execution_count": 5,
   "id": "8ca0b578",
   "metadata": {
    "execution": {
     "iopub.execute_input": "2025-07-30T23:20:06.723965Z",
     "iopub.status.busy": "2025-07-30T23:20:06.723375Z",
     "iopub.status.idle": "2025-07-30T23:20:06.733167Z",
     "shell.execute_reply": "2025-07-30T23:20:06.731866Z"
    },
    "papermill": {
     "duration": 0.019276,
     "end_time": "2025-07-30T23:20:06.735136",
     "exception": false,
     "start_time": "2025-07-30T23:20:06.715860",
     "status": "completed"
    },
    "tags": []
   },
   "outputs": [
    {
     "data": {
      "text/plain": [
       "PassengerId      0\n",
       "Survived         0\n",
       "Pclass           0\n",
       "Name             0\n",
       "Sex              0\n",
       "Age            177\n",
       "SibSp            0\n",
       "Parch            0\n",
       "Ticket           0\n",
       "Fare             0\n",
       "Cabin          687\n",
       "Embarked         2\n",
       "dtype: int64"
      ]
     },
     "execution_count": 5,
     "metadata": {},
     "output_type": "execute_result"
    }
   ],
   "source": [
    "train_data.isna().sum()"
   ]
  },
  {
   "cell_type": "code",
   "execution_count": 6,
   "id": "d33ec406",
   "metadata": {
    "execution": {
     "iopub.execute_input": "2025-07-30T23:20:06.747233Z",
     "iopub.status.busy": "2025-07-30T23:20:06.746896Z",
     "iopub.status.idle": "2025-07-30T23:20:06.765953Z",
     "shell.execute_reply": "2025-07-30T23:20:06.764948Z"
    },
    "papermill": {
     "duration": 0.026746,
     "end_time": "2025-07-30T23:20:06.767703",
     "exception": false,
     "start_time": "2025-07-30T23:20:06.740957",
     "status": "completed"
    },
    "tags": []
   },
   "outputs": [],
   "source": [
    "most_common_embarked = train_data['Embarked'].mode()[0]\n",
    "train_data['Embarked'] = train_data['Embarked'].fillna(most_common_embarked)\n",
    "\n",
    "train_data['Age'] = train_data['Age'].fillna(train_data['Age'].mean())\n",
    "\n",
    "train_data.drop(columns=['Cabin'], inplace=True)\n",
    "test_data.drop(columns=['Cabin'], inplace=True)\n",
    "\n",
    "train_data.drop(columns=['Ticket'], inplace=True)\n",
    "test_data.drop(columns=['Ticket'], inplace=True)\n",
    "\n",
    "train_data.drop(columns=['PassengerId', 'Name'], inplace=True)\n",
    "test_data.drop(columns=['PassengerId', 'Name'], inplace=True)"
   ]
  },
  {
   "cell_type": "code",
   "execution_count": 7,
   "id": "46043771",
   "metadata": {
    "execution": {
     "iopub.execute_input": "2025-07-30T23:20:06.780233Z",
     "iopub.status.busy": "2025-07-30T23:20:06.779352Z",
     "iopub.status.idle": "2025-07-30T23:20:06.793105Z",
     "shell.execute_reply": "2025-07-30T23:20:06.792134Z"
    },
    "papermill": {
     "duration": 0.021994,
     "end_time": "2025-07-30T23:20:06.794691",
     "exception": false,
     "start_time": "2025-07-30T23:20:06.772697",
     "status": "completed"
    },
    "tags": []
   },
   "outputs": [
    {
     "data": {
      "text/html": [
       "<div>\n",
       "<style scoped>\n",
       "    .dataframe tbody tr th:only-of-type {\n",
       "        vertical-align: middle;\n",
       "    }\n",
       "\n",
       "    .dataframe tbody tr th {\n",
       "        vertical-align: top;\n",
       "    }\n",
       "\n",
       "    .dataframe thead th {\n",
       "        text-align: right;\n",
       "    }\n",
       "</style>\n",
       "<table border=\"1\" class=\"dataframe\">\n",
       "  <thead>\n",
       "    <tr style=\"text-align: right;\">\n",
       "      <th></th>\n",
       "      <th>Survived</th>\n",
       "      <th>Pclass</th>\n",
       "      <th>Sex</th>\n",
       "      <th>Age</th>\n",
       "      <th>SibSp</th>\n",
       "      <th>Parch</th>\n",
       "      <th>Fare</th>\n",
       "      <th>Embarked</th>\n",
       "    </tr>\n",
       "  </thead>\n",
       "  <tbody>\n",
       "    <tr>\n",
       "      <th>0</th>\n",
       "      <td>0</td>\n",
       "      <td>3</td>\n",
       "      <td>male</td>\n",
       "      <td>22.000000</td>\n",
       "      <td>1</td>\n",
       "      <td>0</td>\n",
       "      <td>7.2500</td>\n",
       "      <td>S</td>\n",
       "    </tr>\n",
       "    <tr>\n",
       "      <th>1</th>\n",
       "      <td>1</td>\n",
       "      <td>1</td>\n",
       "      <td>female</td>\n",
       "      <td>38.000000</td>\n",
       "      <td>1</td>\n",
       "      <td>0</td>\n",
       "      <td>71.2833</td>\n",
       "      <td>C</td>\n",
       "    </tr>\n",
       "    <tr>\n",
       "      <th>2</th>\n",
       "      <td>1</td>\n",
       "      <td>3</td>\n",
       "      <td>female</td>\n",
       "      <td>26.000000</td>\n",
       "      <td>0</td>\n",
       "      <td>0</td>\n",
       "      <td>7.9250</td>\n",
       "      <td>S</td>\n",
       "    </tr>\n",
       "    <tr>\n",
       "      <th>3</th>\n",
       "      <td>1</td>\n",
       "      <td>1</td>\n",
       "      <td>female</td>\n",
       "      <td>35.000000</td>\n",
       "      <td>1</td>\n",
       "      <td>0</td>\n",
       "      <td>53.1000</td>\n",
       "      <td>S</td>\n",
       "    </tr>\n",
       "    <tr>\n",
       "      <th>4</th>\n",
       "      <td>0</td>\n",
       "      <td>3</td>\n",
       "      <td>male</td>\n",
       "      <td>35.000000</td>\n",
       "      <td>0</td>\n",
       "      <td>0</td>\n",
       "      <td>8.0500</td>\n",
       "      <td>S</td>\n",
       "    </tr>\n",
       "    <tr>\n",
       "      <th>...</th>\n",
       "      <td>...</td>\n",
       "      <td>...</td>\n",
       "      <td>...</td>\n",
       "      <td>...</td>\n",
       "      <td>...</td>\n",
       "      <td>...</td>\n",
       "      <td>...</td>\n",
       "      <td>...</td>\n",
       "    </tr>\n",
       "    <tr>\n",
       "      <th>886</th>\n",
       "      <td>0</td>\n",
       "      <td>2</td>\n",
       "      <td>male</td>\n",
       "      <td>27.000000</td>\n",
       "      <td>0</td>\n",
       "      <td>0</td>\n",
       "      <td>13.0000</td>\n",
       "      <td>S</td>\n",
       "    </tr>\n",
       "    <tr>\n",
       "      <th>887</th>\n",
       "      <td>1</td>\n",
       "      <td>1</td>\n",
       "      <td>female</td>\n",
       "      <td>19.000000</td>\n",
       "      <td>0</td>\n",
       "      <td>0</td>\n",
       "      <td>30.0000</td>\n",
       "      <td>S</td>\n",
       "    </tr>\n",
       "    <tr>\n",
       "      <th>888</th>\n",
       "      <td>0</td>\n",
       "      <td>3</td>\n",
       "      <td>female</td>\n",
       "      <td>29.699118</td>\n",
       "      <td>1</td>\n",
       "      <td>2</td>\n",
       "      <td>23.4500</td>\n",
       "      <td>S</td>\n",
       "    </tr>\n",
       "    <tr>\n",
       "      <th>889</th>\n",
       "      <td>1</td>\n",
       "      <td>1</td>\n",
       "      <td>male</td>\n",
       "      <td>26.000000</td>\n",
       "      <td>0</td>\n",
       "      <td>0</td>\n",
       "      <td>30.0000</td>\n",
       "      <td>C</td>\n",
       "    </tr>\n",
       "    <tr>\n",
       "      <th>890</th>\n",
       "      <td>0</td>\n",
       "      <td>3</td>\n",
       "      <td>male</td>\n",
       "      <td>32.000000</td>\n",
       "      <td>0</td>\n",
       "      <td>0</td>\n",
       "      <td>7.7500</td>\n",
       "      <td>Q</td>\n",
       "    </tr>\n",
       "  </tbody>\n",
       "</table>\n",
       "<p>891 rows × 8 columns</p>\n",
       "</div>"
      ],
      "text/plain": [
       "     Survived  Pclass     Sex        Age  SibSp  Parch     Fare Embarked\n",
       "0           0       3    male  22.000000      1      0   7.2500        S\n",
       "1           1       1  female  38.000000      1      0  71.2833        C\n",
       "2           1       3  female  26.000000      0      0   7.9250        S\n",
       "3           1       1  female  35.000000      1      0  53.1000        S\n",
       "4           0       3    male  35.000000      0      0   8.0500        S\n",
       "..        ...     ...     ...        ...    ...    ...      ...      ...\n",
       "886         0       2    male  27.000000      0      0  13.0000        S\n",
       "887         1       1  female  19.000000      0      0  30.0000        S\n",
       "888         0       3  female  29.699118      1      2  23.4500        S\n",
       "889         1       1    male  26.000000      0      0  30.0000        C\n",
       "890         0       3    male  32.000000      0      0   7.7500        Q\n",
       "\n",
       "[891 rows x 8 columns]"
      ]
     },
     "execution_count": 7,
     "metadata": {},
     "output_type": "execute_result"
    }
   ],
   "source": [
    "train_data"
   ]
  },
  {
   "cell_type": "code",
   "execution_count": 8,
   "id": "dd5b73c7",
   "metadata": {
    "execution": {
     "iopub.execute_input": "2025-07-30T23:20:06.806187Z",
     "iopub.status.busy": "2025-07-30T23:20:06.805823Z",
     "iopub.status.idle": "2025-07-30T23:20:06.814267Z",
     "shell.execute_reply": "2025-07-30T23:20:06.813134Z"
    },
    "papermill": {
     "duration": 0.016043,
     "end_time": "2025-07-30T23:20:06.816001",
     "exception": false,
     "start_time": "2025-07-30T23:20:06.799958",
     "status": "completed"
    },
    "tags": []
   },
   "outputs": [
    {
     "data": {
      "text/plain": [
       "Pclass       0\n",
       "Sex          0\n",
       "Age         86\n",
       "SibSp        0\n",
       "Parch        0\n",
       "Fare         1\n",
       "Embarked     0\n",
       "dtype: int64"
      ]
     },
     "execution_count": 8,
     "metadata": {},
     "output_type": "execute_result"
    }
   ],
   "source": [
    "test_data.isna().sum()"
   ]
  },
  {
   "cell_type": "code",
   "execution_count": 9,
   "id": "f6ca7d6e",
   "metadata": {
    "execution": {
     "iopub.execute_input": "2025-07-30T23:20:06.828561Z",
     "iopub.status.busy": "2025-07-30T23:20:06.828012Z",
     "iopub.status.idle": "2025-07-30T23:20:06.835650Z",
     "shell.execute_reply": "2025-07-30T23:20:06.834581Z"
    },
    "papermill": {
     "duration": 0.01566,
     "end_time": "2025-07-30T23:20:06.837316",
     "exception": false,
     "start_time": "2025-07-30T23:20:06.821656",
     "status": "completed"
    },
    "tags": []
   },
   "outputs": [],
   "source": [
    "test_data['Age'] = test_data['Age'].fillna(test_data['Age'].mean())\n",
    "test_data['Fare'] = test_data['Fare'].fillna(test_data['Fare'].mean())"
   ]
  },
  {
   "cell_type": "code",
   "execution_count": 10,
   "id": "a92cab52",
   "metadata": {
    "execution": {
     "iopub.execute_input": "2025-07-30T23:20:06.849375Z",
     "iopub.status.busy": "2025-07-30T23:20:06.849059Z",
     "iopub.status.idle": "2025-07-30T23:20:06.857410Z",
     "shell.execute_reply": "2025-07-30T23:20:06.855657Z"
    },
    "papermill": {
     "duration": 0.017058,
     "end_time": "2025-07-30T23:20:06.859557",
     "exception": false,
     "start_time": "2025-07-30T23:20:06.842499",
     "status": "completed"
    },
    "tags": []
   },
   "outputs": [
    {
     "name": "stdout",
     "output_type": "stream",
     "text": [
      "0\n",
      "0\n"
     ]
    }
   ],
   "source": [
    "print(train_data.isna().sum().sum())\n",
    "print(test_data.isna().sum().sum())"
   ]
  },
  {
   "cell_type": "code",
   "execution_count": 11,
   "id": "ea4dff05",
   "metadata": {
    "execution": {
     "iopub.execute_input": "2025-07-30T23:20:06.871207Z",
     "iopub.status.busy": "2025-07-30T23:20:06.870870Z",
     "iopub.status.idle": "2025-07-30T23:20:06.877584Z",
     "shell.execute_reply": "2025-07-30T23:20:06.876466Z"
    },
    "papermill": {
     "duration": 0.014449,
     "end_time": "2025-07-30T23:20:06.879268",
     "exception": false,
     "start_time": "2025-07-30T23:20:06.864819",
     "status": "completed"
    },
    "tags": []
   },
   "outputs": [
    {
     "name": "stdout",
     "output_type": "stream",
     "text": [
      "Index(['Sex', 'Embarked'], dtype='object')\n"
     ]
    }
   ],
   "source": [
    "print(train_data.select_dtypes(include=['object']).columns)"
   ]
  },
  {
   "cell_type": "code",
   "execution_count": 12,
   "id": "1e27da34",
   "metadata": {
    "execution": {
     "iopub.execute_input": "2025-07-30T23:20:06.890920Z",
     "iopub.status.busy": "2025-07-30T23:20:06.890541Z",
     "iopub.status.idle": "2025-07-30T23:20:06.905638Z",
     "shell.execute_reply": "2025-07-30T23:20:06.904736Z"
    },
    "papermill": {
     "duration": 0.023168,
     "end_time": "2025-07-30T23:20:06.907690",
     "exception": false,
     "start_time": "2025-07-30T23:20:06.884522",
     "status": "completed"
    },
    "tags": []
   },
   "outputs": [],
   "source": [
    "train_data['Sex'] = train_data['Sex'].map({'male': 0, 'female': 1})\n",
    "test_data['Sex'] = test_data['Sex'].map({'male': 0, 'female': 1})\n",
    "\n",
    "train_data = pd.get_dummies(train_data, columns=['Embarked'], drop_first=True)\n",
    "test_data = pd.get_dummies(test_data, columns=['Embarked'], drop_first=True)"
   ]
  },
  {
   "cell_type": "code",
   "execution_count": 13,
   "id": "50794caf",
   "metadata": {
    "execution": {
     "iopub.execute_input": "2025-07-30T23:20:06.919956Z",
     "iopub.status.busy": "2025-07-30T23:20:06.919653Z",
     "iopub.status.idle": "2025-07-30T23:20:06.925233Z",
     "shell.execute_reply": "2025-07-30T23:20:06.924169Z"
    },
    "papermill": {
     "duration": 0.01316,
     "end_time": "2025-07-30T23:20:06.926611",
     "exception": false,
     "start_time": "2025-07-30T23:20:06.913451",
     "status": "completed"
    },
    "tags": []
   },
   "outputs": [
    {
     "name": "stdout",
     "output_type": "stream",
     "text": [
      "Index([], dtype='object')\n"
     ]
    }
   ],
   "source": [
    "print(train_data.select_dtypes(include=['object']).columns)"
   ]
  },
  {
   "cell_type": "code",
   "execution_count": 14,
   "id": "2384401e",
   "metadata": {
    "execution": {
     "iopub.execute_input": "2025-07-30T23:20:06.938706Z",
     "iopub.status.busy": "2025-07-30T23:20:06.938353Z",
     "iopub.status.idle": "2025-07-30T23:20:07.267200Z",
     "shell.execute_reply": "2025-07-30T23:20:07.265979Z"
    },
    "papermill": {
     "duration": 0.336958,
     "end_time": "2025-07-30T23:20:07.268924",
     "exception": false,
     "start_time": "2025-07-30T23:20:06.931966",
     "status": "completed"
    },
    "tags": []
   },
   "outputs": [
    {
     "data": {
      "image/png": "[encoded data removed]",
      "text/plain": [
       "<Figure size 1000x500 with 1 Axes>"
      ]
     },
     "metadata": {},
     "output_type": "display_data"
    }
   ],
   "source": [
    "plt.figure(figsize=(10,5))\n",
    "sns.boxplot(x=train_data['Fare'])\n",
    "plt.title('Fare Boxplot')\n",
    "plt.show()"
   ]
  },
  {
   "cell_type": "code",
   "execution_count": 15,
   "id": "e0025f62",
   "metadata": {
    "execution": {
     "iopub.execute_input": "2025-07-30T23:20:07.281704Z",
     "iopub.status.busy": "2025-07-30T23:20:07.281004Z",
     "iopub.status.idle": "2025-07-30T23:20:07.298156Z",
     "shell.execute_reply": "2025-07-30T23:20:07.297111Z"
    },
    "papermill": {
     "duration": 0.025261,
     "end_time": "2025-07-30T23:20:07.299814",
     "exception": false,
     "start_time": "2025-07-30T23:20:07.274553",
     "status": "completed"
    },
    "tags": []
   },
   "outputs": [],
   "source": [
    "train_data['Fare'] = train_data['Fare'].apply(np.log1p)\n",
    "test_data['Fare'] = test_data['Fare'].apply(np.log1p)"
   ]
  },
  {
   "cell_type": "code",
   "execution_count": 16,
   "id": "a82c7e2d",
   "metadata": {
    "execution": {
     "iopub.execute_input": "2025-07-30T23:20:07.312719Z",
     "iopub.status.busy": "2025-07-30T23:20:07.312011Z",
     "iopub.status.idle": "2025-07-30T23:20:07.519054Z",
     "shell.execute_reply": "2025-07-30T23:20:07.518044Z"
    },
    "papermill": {
     "duration": 0.215561,
     "end_time": "2025-07-30T23:20:07.520960",
     "exception": false,
     "start_time": "2025-07-30T23:20:07.305399",
     "status": "completed"
    },
    "tags": []
   },
   "outputs": [],
   "source": [
    "from sklearn.preprocessing import StandardScaler\n",
    "scaler = StandardScaler()\n",
    "for col in ['Age', 'Fare']:\n",
    "    train_data[col] = scaler.fit_transform(train_data[[col]])\n",
    "    test_data[col] = scaler.transform(test_data[[col]])"
   ]
  },
  {
   "cell_type": "code",
   "execution_count": 17,
   "id": "ad6c311b",
   "metadata": {
    "execution": {
     "iopub.execute_input": "2025-07-30T23:20:07.533523Z",
     "iopub.status.busy": "2025-07-30T23:20:07.533199Z",
     "iopub.status.idle": "2025-07-30T23:20:07.663663Z",
     "shell.execute_reply": "2025-07-30T23:20:07.662889Z"
    },
    "papermill": {
     "duration": 0.138659,
     "end_time": "2025-07-30T23:20:07.665396",
     "exception": false,
     "start_time": "2025-07-30T23:20:07.526737",
     "status": "completed"
    },
    "tags": []
   },
   "outputs": [],
   "source": [
    "from sklearn.model_selection import train_test_split\n",
    "\n",
    "X = train_data.drop('Survived', axis=1)\n",
    "y = train_data['Survived']\n",
    "\n",
    "X_train, X_val, y_train, y_val = train_test_split(\n",
    "    X, y, test_size=0.2, random_state=42, stratify=y\n",
    ")"
   ]
  },
  {
   "cell_type": "code",
   "execution_count": 18,
   "id": "66c858b5",
   "metadata": {
    "execution": {
     "iopub.execute_input": "2025-07-30T23:20:07.678007Z",
     "iopub.status.busy": "2025-07-30T23:20:07.677615Z",
     "iopub.status.idle": "2025-07-30T23:20:09.510330Z",
     "shell.execute_reply": "2025-07-30T23:20:09.507510Z"
    },
    "papermill": {
     "duration": 1.841551,
     "end_time": "2025-07-30T23:20:09.512565",
     "exception": false,
     "start_time": "2025-07-30T23:20:07.671014",
     "status": "completed"
    },
    "tags": []
   },
   "outputs": [
    {
     "name": "stdout",
     "output_type": "stream",
     "text": [
      "Logistic Regression Results:\n",
      "  Accuracy: 0.8101\n",
      "  F1 Score: 0.7385\n",
      "  ROC AUC:  0.8387\n",
      "------------------------------\n",
      "Random Forest Results:\n",
      "  Accuracy: 0.8212\n",
      "  F1 Score: 0.7538\n",
      "  ROC AUC:  0.8345\n",
      "------------------------------\n",
      "XGBoost Results:\n",
      "  Accuracy: 0.7989\n",
      "  F1 Score: 0.7353\n",
      "  ROC AUC:  0.8080\n",
      "------------------------------\n"
     ]
    }
   ],
   "source": [
    "from sklearn.linear_model import LogisticRegression\n",
    "from sklearn.ensemble import RandomForestClassifier\n",
    "from xgboost import XGBClassifier\n",
    "from sklearn.metrics import accuracy_score, f1_score, roc_auc_score\n",
    "\n",
    "models = {\n",
    "    'Logistic Regression': LogisticRegression(random_state=42, max_iter=1000),\n",
    "    'Random Forest': RandomForestClassifier(random_state=42, n_jobs=-1, n_estimators=200),\n",
    "    'XGBoost': XGBClassifier(use_label_encoder=False, eval_metric='logloss', random_state=42, n_jobs=-1)\n",
    "}\n",
    "\n",
    "for name, model in models.items():\n",
    "    model.fit(X_train, y_train)\n",
    "    y_pred = model.predict(X_val)\n",
    "    y_prob = model.predict_proba(X_val)[:,1]\n",
    "\n",
    "    acc = accuracy_score(y_val, y_pred)\n",
    "    f1 = f1_score(y_val, y_pred)\n",
    "    roc_auc = roc_auc_score(y_val, y_prob)\n",
    "\n",
    "    print(f\"{name} Results:\")\n",
    "    print(f\"  Accuracy: {acc:.4f}\")\n",
    "    print(f\"  F1 Score: {f1:.4f}\")\n",
    "    print(f\"  ROC AUC:  {roc_auc:.4f}\")\n",
    "    print(\"-\" * 30)"
   ]
  },
  {
   "cell_type": "code",
   "execution_count": 19,
   "id": "f262746b",
   "metadata": {
    "execution": {
     "iopub.execute_input": "2025-07-30T23:20:09.526984Z",
     "iopub.status.busy": "2025-07-30T23:20:09.526177Z",
     "iopub.status.idle": "2025-07-30T23:20:10.360372Z",
     "shell.execute_reply": "2025-07-30T23:20:10.358969Z"
    },
    "papermill": {
     "duration": 0.842424,
     "end_time": "2025-07-30T23:20:10.362065",
     "exception": false,
     "start_time": "2025-07-30T23:20:09.519641",
     "status": "completed"
    },
    "tags": []
   },
   "outputs": [
    {
     "name": "stdout",
     "output_type": "stream",
     "text": [
      "Actual values (first 5):\n",
      "565    0\n",
      "160    0\n",
      "553    1\n",
      "860    0\n",
      "241    1\n",
      "Name: Survived, dtype: int64\n",
      "\n",
      "Predicted values (first 5):\n",
      "0    0\n",
      "1    0\n",
      "2    0\n",
      "3    0\n",
      "4    1\n",
      "dtype: int64\n"
     ]
    }
   ],
   "source": [
    "best_model = RandomForestClassifier(random_state=42, n_jobs=-1, n_estimators=200)\n",
    "best_model.fit(X_train, y_train)\n",
    "\n",
    "y_val_pred = best_model.predict(X_val)\n",
    "\n",
    "print(\"Actual values (first 5):\")\n",
    "print(y_val.head())\n",
    "\n",
    "print(\"\\nPredicted values (first 5):\")\n",
    "print(pd.Series(y_val_pred).head())"
   ]
  },
  {
   "cell_type": "code",
   "execution_count": 20,
   "id": "7eb2e5cf",
   "metadata": {
    "execution": {
     "iopub.execute_input": "2025-07-30T23:20:10.375155Z",
     "iopub.status.busy": "2025-07-30T23:20:10.374774Z",
     "iopub.status.idle": "2025-07-30T23:20:10.495309Z",
     "shell.execute_reply": "2025-07-30T23:20:10.494008Z"
    },
    "papermill": {
     "duration": 0.128929,
     "end_time": "2025-07-30T23:20:10.497076",
     "exception": false,
     "start_time": "2025-07-30T23:20:10.368147",
     "status": "completed"
    },
    "tags": []
   },
   "outputs": [
    {
     "name": "stdout",
     "output_type": "stream",
     "text": [
      "Submission file 'submission.csv' created.\n"
     ]
    }
   ],
   "source": [
    "# Orijinal test csv'sini tekrar yükle (PassengerId için)\n",
    "test_data_orig = pd.read_csv(\"/kaggle/input/titanic/test.csv\")\n",
    "\n",
    "# best_model ile test verisi üzerinde tahmin yap\n",
    "test_preds = best_model.predict(test_data)\n",
    "\n",
    "# Submission dataframe'i oluştur\n",
    "submission = pd.DataFrame({\n",
    "    \"PassengerId\": test_data_orig[\"PassengerId\"],\n",
    "    \"Survived\": test_preds\n",
    "})\n",
    "\n",
    "# CSV olarak kaydet (kaggle ortamında)\n",
    "submission.to_csv(\"submission.csv\", index=False)\n",
    "\n",
    "print(\"Submission file 'submission.csv' created.\")"
   ]
  },
  {
   "cell_type": "code",
   "execution_count": null,
   "id": "2a836af2",
   "metadata": {
    "papermill": {
     "duration": 0.005371,
     "end_time": "2025-07-30T23:20:10.508194",
     "exception": false,
     "start_time": "2025-07-30T23:20:10.502823",
     "status": "completed"
    },
    "tags": []
   },
   "outputs": [],
   "source": []
  }
 ],
 "metadata": {
  "kaggle": {
   "accelerator": "none",
   "dataSources": [
    {
     "databundleVersionId": 26502,
     "sourceId": 3136,
     "sourceType": "competition"
    },
    {
     "datasetId": 7913017,
     "sourceId": 12534617,
     "sourceType": "datasetVersion"
    }
   ],
   "dockerImageVersionId": 31089,
   "isGpuEnabled": false,
   "isInternetEnabled": true,
   "language": "python",
   "sourceType": "notebook"
  },
  "kernelspec": {
   "display_name": "Python 3",
   "language": "python",
   "name": "python3"
  },
  "language_info": {
   "codemirror_mode": {
    "name": "ipython",
    "version": 3
   },
   "file_extension": ".py",
   "mimetype": "text/x-python",
   "name": "python",
   "nbconvert_exporter": "python",
   "pygments_lexer": "ipython3",
   "version": "3.11.13"
  },
  "papermill": {
   "default_parameters": {},
   "duration": 15.280112,
   "end_time": "2025-07-30T23:20:11.336210",
   "environment_variables": {},
   "exception": null,
   "input_path": "__notebook__.ipynb",
   "output_path": "__notebook__.ipynb",
   "parameters": {},
   "start_time": "2025-07-30T23:19:56.056098",
   "version": "2.6.0"
  }
 },
 "nbformat": 4,
 "nbformat_minor": 5
}
