{
 "cells": [
  {
   "cell_type": "markdown",
   "id": "42c506ae-7f98-45ee-826f-d14979e4e0a5",
   "metadata": {},
   "source": [
    "# ex3_calc\n",
    "## Nội dung bài \n",
    "Thực hiện máy tính để tính toán cơ bản \n",
    "## Bài làm\n",
    "### Tính toán đơn giản"
   ]
  },
  {
   "cell_type": "code",
   "execution_count": 2,
   "id": "9e2abe25-c3c3-4f38-9f48-8fc9c9140250",
   "metadata": {},
   "outputs": [
    {
     "name": "stdout",
     "output_type": "stream",
     "text": [
      " Volume in drive C is OS\n",
      " Volume Serial Number is E81E-6B28\n",
      "\n",
      " Directory of C:\\Users\\phanh\\OneDrive\\Máy tính\\Lab1_phandinhhieu_3123410111\n",
      "\n",
      "16/09/2025  12:14 pm    <DIR>          .\n",
      "16/09/2025  11:24 am    <DIR>          ..\n",
      "16/09/2025  12:10 pm    <DIR>          .ipynb_checkpoints\n",
      "16/09/2025  11:57 am            58,446 ex2_scientific1.ipynb\n",
      "16/09/2025  11:57 am            59,403 ex4_scientific2.ipynb\n",
      "16/09/2025  12:14 pm             1,056 ex_calc.ipynb\n",
      "16/09/2025  12:07 pm             1,362 ex_calc.py\n",
      "               4 File(s)        120,267 bytes\n",
      "               3 Dir(s)  302,044,651,520 bytes free\n"
     ]
    }
   ],
   "source": [
    "!dir"
   ]
  },
  {
   "cell_type": "code",
   "execution_count": 3,
   "id": "fb7bc59e-4139-4228-ad9d-ba91b93143f3",
   "metadata": {},
   "outputs": [
    {
     "name": "stdout",
     "output_type": "stream",
     "text": [
      "\n",
      "----- MÁY TÍNH CƠ BẢN -----\n",
      "1. Cộng (+)\n",
      "2. Trừ (-)\n",
      "3. Nhân (*)\n",
      "4. Chia (/)\n",
      "Nhấn phím bất kỳ khác để thoát.\n"
     ]
    },
    {
     "name": "stdin",
     "output_type": "stream",
     "text": [
      "Nhập lựa chọn của bạn (1/2/3/4):  2\n",
      "Nhập số thứ nhất:  1\n",
      "Nhập số thứ hai:  2\n"
     ]
    },
    {
     "name": "stdout",
     "output_type": "stream",
     "text": [
      "Kết quả: 1.0 - 2.0 = -1.0\n",
      "\n",
      "----- MÁY TÍNH CƠ BẢN -----\n",
      "1. Cộng (+)\n",
      "2. Trừ (-)\n",
      "3. Nhân (*)\n",
      "4. Chia (/)\n",
      "Nhấn phím bất kỳ khác để thoát.\n"
     ]
    },
    {
     "name": "stdin",
     "output_type": "stream",
     "text": [
      "Nhập lựa chọn của bạn (1/2/3/4):  0\n"
     ]
    },
    {
     "name": "stdout",
     "output_type": "stream",
     "text": [
      "Cảm ơn bạn đã sử dụng chương trình!\n"
     ]
    }
   ],
   "source": [
    "%run ex_calc.py"
   ]
  },
  {
   "cell_type": "code",
   "execution_count": null,
   "id": "24efd7fe-855a-42cd-a79c-f7bf13b7507d",
   "metadata": {},
   "outputs": [],
   "source": []
  },
  {
   "cell_type": "markdown",
   "id": "bcc3e055-6318-4f8b-87d2-bd98cddbca10",
   "metadata": {},
   "source": [
    "# Kết thúc"
   ]
  }
 ],
 "metadata": {
  "kernelspec": {
   "display_name": "Python 3 (ipykernel)",
   "language": "python",
   "name": "python3"
  },
  "language_info": {
   "codemirror_mode": {
    "name": "ipython",
    "version": 3
   },
   "file_extension": ".py",
   "mimetype": "text/x-python",
   "name": "python",
   "nbconvert_exporter": "python",
   "pygments_lexer": "ipython3",
   "version": "3.13.5"
  }
 },
 "nbformat": 4,
 "nbformat_minor": 5
}
